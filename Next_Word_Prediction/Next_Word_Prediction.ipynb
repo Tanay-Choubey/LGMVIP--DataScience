{
  "nbformat": 4,
  "nbformat_minor": 0,
  "metadata": {
    "colab": {
      "provenance": []
    },
    "kernelspec": {
      "name": "python3",
      "display_name": "Python 3"
    },
    "language_info": {
      "name": "python"
    }
  },
  "cells": [
    {
      "cell_type": "markdown",
      "source": [
        "# **LetsGrowMore - Data Science Internship**\n",
        "\n",
        "# **TASK 3 -  Next Word Prediction**"
      ],
      "metadata": {
        "id": "3CUO_n_vw-my"
      }
    },
    {
      "cell_type": "markdown",
      "source": [
        "### Author : TANAY CHOUBEY\n",
        "[![alt text](https://logoeps.com/wp-content/uploads/2014/02/25231-github-cat-in-a-circle-icon-vector-icon-vector-eps.png \"Git Hub Link\")](https://github.com/Tanay-Choubey)"
      ],
      "metadata": {
        "id": "Hpu7QV_WFhey"
      }
    },
    {
      "cell_type": "markdown",
      "source": [
        "### Problem Statement: Use Tensorflow and Keras library to train an RNN, to predict the next word.\n",
        "\n",
        "### Dataset link: https://drive.google.com/file/d/1GeUzNVqiixXHnTl8oNiQ2W3CynX_lsu2/view"
      ],
      "metadata": {
        "id": "xogeWykzxIjZ"
      }
    },
    {
      "cell_type": "markdown",
      "source": [
        "### Importing the Libraries"
      ],
      "metadata": {
        "id": "3uHgaDi7yErx"
      }
    },
    {
      "cell_type": "code",
      "source": [
        "import numpy as np\n",
        "import tensorflow as tf\n",
        "from nltk.tokenize import RegexpTokenizer\n",
        "from tensorflow import keras\n",
        "from keras.models import Sequential, load_model\n",
        "from keras.layers import LSTM\n",
        "import matplotlib.pyplot as plt\n",
        "import pickle\n",
        "import heapq\n",
        "import warnings\n",
        "warnings.filterwarnings(\"ignore\")"
      ],
      "metadata": {
        "id": "pJYDYEHgREdb"
      },
      "execution_count": 10,
      "outputs": []
    },
    {
      "cell_type": "markdown",
      "source": [
        "### Loading Data and Preprocessing"
      ],
      "metadata": {
        "id": "HrR9boEURtrj"
      }
    },
    {
      "cell_type": "code",
      "source": [
        "path = '/content/1661-0.txt'\n",
        "text = open(path).read().lower()\n",
        "print('Corpus length:', len(text))"
      ],
      "metadata": {
        "colab": {
          "base_uri": "https://localhost:8080/"
        },
        "id": "mAZ78zjJRFLM",
        "outputId": "ad1423cc-8230-4a3a-ff74-a003bd153b94"
      },
      "execution_count": 7,
      "outputs": [
        {
          "output_type": "stream",
          "name": "stdout",
          "text": [
            "Corpus length: 581888\n"
          ]
        }
      ]
    },
    {
      "cell_type": "code",
      "source": [
        "#Splitting the text file into words\n",
        "chars = sorted(list(set(text)))\n",
        "char_indices = dict((c, i) for i, c in enumerate(chars))\n",
        "indices_char = dict((i, c) for i, c in enumerate(chars))\n",
        "\n",
        "print(f'Unique characters : {len(chars)}')"
      ],
      "metadata": {
        "colab": {
          "base_uri": "https://localhost:8080/"
        },
        "id": "BSMCAYTgR_db",
        "outputId": "a576e0fa-365d-4497-8d64-1e5b51fa0e18"
      },
      "execution_count": 8,
      "outputs": [
        {
          "output_type": "stream",
          "name": "stdout",
          "text": [
            "Unique characters : 73\n"
          ]
        }
      ]
    },
    {
      "cell_type": "code",
      "source": [
        "#Chunking 40 characters with 3 sequences\n",
        "seq_len = 40\n",
        "step = 3\n",
        "sentences = []\n",
        "next_chars = []\n",
        "for i in range(0, len(text) - seq_len, step):\n",
        "    sentences.append(text[i: i + seq_len ])\n",
        "    next_chars.append(text[i + seq_len])\n",
        "print(f'Num training examples: {len(sentences)}')"
      ],
      "metadata": {
        "colab": {
          "base_uri": "https://localhost:8080/"
        },
        "id": "4_Tl6whZSTvK",
        "outputId": "867bc61c-f539-473b-b213-b0b59edd937c"
      },
      "execution_count": 9,
      "outputs": [
        {
          "output_type": "stream",
          "name": "stdout",
          "text": [
            "Num training examples: 193950\n"
          ]
        }
      ]
    },
    {
      "cell_type": "code",
      "source": [
        "#Generating the features and labels\n",
        "X = np.zeros((len(sentences), seq_len, len(chars)), dtype=np.bool)\n",
        "Y = np.zeros((len(sentences), len(chars)), dtype=np.bool)\n",
        "for i, sentence in enumerate(sentences):\n",
        "    for t, char in enumerate(sentence):\n",
        "        X[i, t, char_indices[char]] = 1\n",
        "    Y[i, char_indices[next_chars[i]]] = 1\n",
        "\n",
        "sentences[124]\n",
        "next_chars[100]"
      ],
      "metadata": {
        "colab": {
          "base_uri": "https://localhost:8080/",
          "height": 36
        },
        "id": "NbzRKQH2Sxjq",
        "outputId": "93186aaf-9928-4070-8055-0f7ce7cba98b"
      },
      "execution_count": 11,
      "outputs": [
        {
          "output_type": "execute_result",
          "data": {
            "text/plain": [
              "'e'"
            ],
            "application/vnd.google.colaboratory.intrinsic+json": {
              "type": "string"
            }
          },
          "metadata": {},
          "execution_count": 11
        }
      ]
    },
    {
      "cell_type": "code",
      "source": [
        "X[0][0]"
      ],
      "metadata": {
        "colab": {
          "base_uri": "https://localhost:8080/"
        },
        "id": "hGlKJsdJTDe6",
        "outputId": "aed0d685-be66-4022-a08f-69ba79a87f7a"
      },
      "execution_count": 12,
      "outputs": [
        {
          "output_type": "execute_result",
          "data": {
            "text/plain": [
              "array([False, False, False, False, False, False, False, False, False,\n",
              "       False, False, False, False, False, False, False, False, False,\n",
              "       False, False, False, False, False, False, False, False, False,\n",
              "       False, False, False, False, False, False, False, False, False,\n",
              "       False, False, False, False, False, False, False, False, False,\n",
              "       False, False, False, False, False, False, False, False, False,\n",
              "       False, False, False, False, False, False, False, False, False,\n",
              "       False, False, False, False, False, False, False, False, False,\n",
              "        True])"
            ]
          },
          "metadata": {},
          "execution_count": 12
        }
      ]
    },
    {
      "cell_type": "code",
      "source": [
        "Y[0]"
      ],
      "metadata": {
        "colab": {
          "base_uri": "https://localhost:8080/"
        },
        "id": "CvHs5WTETXVE",
        "outputId": "919f26dd-0280-4870-c9ae-65d0d33717b8"
      },
      "execution_count": 13,
      "outputs": [
        {
          "output_type": "execute_result",
          "data": {
            "text/plain": [
              "array([False, False, False, False, False, False, False, False, False,\n",
              "       False, False, False, False, False, False, False, False, False,\n",
              "       False, False, False, False, False, False, False, False, False,\n",
              "       False, False, False, False, False, False, False, False, False,\n",
              "       False, False, False, False, False, False, False, False, False,\n",
              "       False, False, False, False, False, False,  True, False, False,\n",
              "       False, False, False, False, False, False, False, False, False,\n",
              "       False, False, False, False, False, False, False, False, False,\n",
              "       False])"
            ]
          },
          "metadata": {},
          "execution_count": 13
        }
      ]
    },
    {
      "cell_type": "code",
      "source": [
        "X.shape"
      ],
      "metadata": {
        "colab": {
          "base_uri": "https://localhost:8080/"
        },
        "id": "7I8ENSUcTcf6",
        "outputId": "b7cafb44-d0d9-46ca-dc00-9fdc87fbec68"
      },
      "execution_count": 14,
      "outputs": [
        {
          "output_type": "execute_result",
          "data": {
            "text/plain": [
              "(193950, 40, 73)"
            ]
          },
          "metadata": {},
          "execution_count": 14
        }
      ]
    },
    {
      "cell_type": "code",
      "source": [
        "Y.shape"
      ],
      "metadata": {
        "colab": {
          "base_uri": "https://localhost:8080/"
        },
        "id": "6j_ZZH2STfTK",
        "outputId": "9161d128-e25f-4bad-dee4-2b1c4029637f"
      },
      "execution_count": 15,
      "outputs": [
        {
          "output_type": "execute_result",
          "data": {
            "text/plain": [
              "(193950, 73)"
            ]
          },
          "metadata": {},
          "execution_count": 15
        }
      ]
    },
    {
      "cell_type": "markdown",
      "source": [
        "### RNN Model"
      ],
      "metadata": {
        "id": "TqgOEnh-Tm5q"
      }
    },
    {
      "cell_type": "code",
      "source": [
        "import keras\n",
        "from keras.layers import Dense, Activation\n",
        "\n",
        "model = Sequential()\n",
        "model.add(LSTM(128, input_shape=(seq_len, len(chars))))\n",
        "model.add(Dense(len(chars)))\n",
        "model.add(Activation('softmax'))"
      ],
      "metadata": {
        "id": "e6B5TMJ6Th9Z"
      },
      "execution_count": 18,
      "outputs": []
    },
    {
      "cell_type": "markdown",
      "source": [
        "### Model Training"
      ],
      "metadata": {
        "id": "_rxFB3umVXGR"
      }
    },
    {
      "cell_type": "code",
      "source": [
        "optimizer = tf.keras.optimizers.RMSprop(learning_rate=0.01)\n",
        "model.compile(loss='categorical_crossentropy', optimizer=optimizer, metrics=['accuracy'])\n",
        "history = model.fit(X, Y, validation_split=0.05, batch_size=128, epochs=10, shuffle=True).history"
      ],
      "metadata": {
        "colab": {
          "base_uri": "https://localhost:8080/"
        },
        "id": "iM2TynViT3q6",
        "outputId": "75e380de-0e17-4c70-9279-71338f31263c"
      },
      "execution_count": 21,
      "outputs": [
        {
          "output_type": "stream",
          "name": "stdout",
          "text": [
            "Epoch 1/10\n",
            "1440/1440 [==============================] - 161s 110ms/step - loss: 1.9023 - accuracy: 0.4377 - val_loss: 2.1132 - val_accuracy: 0.4103\n",
            "Epoch 2/10\n",
            "1440/1440 [==============================] - 158s 110ms/step - loss: 1.6306 - accuracy: 0.5109 - val_loss: 2.0345 - val_accuracy: 0.4360\n",
            "Epoch 3/10\n",
            "1440/1440 [==============================] - 155s 108ms/step - loss: 1.5287 - accuracy: 0.5386 - val_loss: 2.0060 - val_accuracy: 0.4395\n",
            "Epoch 4/10\n",
            "1440/1440 [==============================] - 156s 108ms/step - loss: 1.4699 - accuracy: 0.5539 - val_loss: 1.9868 - val_accuracy: 0.4564\n",
            "Epoch 5/10\n",
            "1440/1440 [==============================] - 157s 109ms/step - loss: 1.4317 - accuracy: 0.5642 - val_loss: 2.0016 - val_accuracy: 0.4583\n",
            "Epoch 6/10\n",
            "1440/1440 [==============================] - 164s 114ms/step - loss: 1.4010 - accuracy: 0.5718 - val_loss: 1.9898 - val_accuracy: 0.4548\n",
            "Epoch 7/10\n",
            "1440/1440 [==============================] - 158s 110ms/step - loss: 1.3800 - accuracy: 0.5777 - val_loss: 1.9583 - val_accuracy: 0.4659\n",
            "Epoch 8/10\n",
            "1440/1440 [==============================] - 156s 108ms/step - loss: 1.3605 - accuracy: 0.5818 - val_loss: 1.9697 - val_accuracy: 0.4632\n",
            "Epoch 9/10\n",
            "1440/1440 [==============================] - 156s 109ms/step - loss: 1.3470 - accuracy: 0.5853 - val_loss: 1.9731 - val_accuracy: 0.4723\n",
            "Epoch 10/10\n",
            "1440/1440 [==============================] - 166s 115ms/step - loss: 1.3369 - accuracy: 0.5876 - val_loss: 1.9742 - val_accuracy: 0.4686\n"
          ]
        }
      ]
    },
    {
      "cell_type": "code",
      "source": [
        "#Saving Our model\n",
        "model.save('keras.next_word_model.h5')\n",
        "pickle.dump(history,open('history.p','wb'))"
      ],
      "metadata": {
        "id": "SkuMx732VffJ"
      },
      "execution_count": 22,
      "outputs": []
    },
    {
      "cell_type": "code",
      "source": [
        "#Loading our Model\n",
        "model.save('keras.next_word_model.h5')\n",
        "history=pickle.load(open('history.p','rb'))"
      ],
      "metadata": {
        "id": "AVq4k2e5ZXKx"
      },
      "execution_count": 23,
      "outputs": []
    },
    {
      "cell_type": "markdown",
      "source": [
        "### Evaluating The Model"
      ],
      "metadata": {
        "id": "4Kb5YFwKbVwJ"
      }
    },
    {
      "cell_type": "code",
      "source": [
        "loss_and_acc=model.evaluate(X,Y)\n",
        "print(\"Test Loss :\", loss_and_acc[0])\n",
        "print(\"Test Accuracy :\", loss_and_acc[1])"
      ],
      "metadata": {
        "colab": {
          "base_uri": "https://localhost:8080/"
        },
        "id": "SzFu71wUbXUC",
        "outputId": "af820c4c-cc43-4c14-fc2b-d0c8e9a4d6cd"
      },
      "execution_count": 24,
      "outputs": [
        {
          "output_type": "stream",
          "name": "stdout",
          "text": [
            "6061/6061 [==============================] - 160s 26ms/step - loss: 1.3175 - accuracy: 0.5958\n",
            "Test Loss : 1.317523717880249\n",
            "Test Accuracy : 0.595808207988739\n"
          ]
        }
      ]
    },
    {
      "cell_type": "markdown",
      "source": [
        "### Visualizing the Model"
      ],
      "metadata": {
        "id": "RsCVkc1GbsR4"
      }
    },
    {
      "cell_type": "code",
      "source": [
        "plt.plot(history['accuracy'])\n",
        "plt.plot(history['val_accuracy'])\n",
        "plt.title('Model Accuracy')\n",
        "plt.ylabel('Accuracy')\n",
        "plt.xlabel('Epoch')\n",
        "plt.legend(['train', 'test'], loc='upper left')"
      ],
      "metadata": {
        "colab": {
          "base_uri": "https://localhost:8080/",
          "height": 489
        },
        "id": "N2-8q3iMb0CH",
        "outputId": "908588e2-2125-4e3d-a6c0-8663f47da3fc"
      },
      "execution_count": 25,
      "outputs": [
        {
          "output_type": "execute_result",
          "data": {
            "text/plain": [
              "<matplotlib.legend.Legend at 0x7aae420d6770>"
            ]
          },
          "metadata": {},
          "execution_count": 25
        },
        {
          "output_type": "display_data",
          "data": {
            "text/plain": [
              "<Figure size 640x480 with 1 Axes>"
            ],
            "image/png": "[encoded data removed]"
          },
          "metadata": {}
        }
      ]
    },
    {
      "cell_type": "code",
      "source": [
        "plt.plot(history['loss'])\n",
        "plt.plot(history['val_loss'])\n",
        "plt.title('Model Loss')\n",
        "plt.ylabel('Loss')\n",
        "plt.xlabel('Epoch')\n",
        "plt.legend(['train', 'test'], loc='upper left')"
      ],
      "metadata": {
        "colab": {
          "base_uri": "https://localhost:8080/",
          "height": 489
        },
        "id": "15L1ncZXcSLg",
        "outputId": "e54cf646-2de8-4c2d-815f-f0bdcdf89693"
      },
      "execution_count": 26,
      "outputs": [
        {
          "output_type": "execute_result",
          "data": {
            "text/plain": [
              "<matplotlib.legend.Legend at 0x7aae48c23670>"
            ]
          },
          "metadata": {},
          "execution_count": 26
        },
        {
          "output_type": "display_data",
          "data": {
            "text/plain": [
              "<Figure size 640x480 with 1 Axes>"
            ],
            "image/png": "[encoded data removed]"
          },
          "metadata": {}
        }
      ]
    },
    {
      "cell_type": "markdown",
      "source": [
        "### Testing The Model"
      ],
      "metadata": {
        "id": "CwrqAbmPcP7Q"
      }
    },
    {
      "cell_type": "code",
      "source": [
        "def prepare_input(text):\n",
        "    x = np.zeros((1, seq_len, len(chars)))\n",
        "    for t, char in enumerate(text):\n",
        "        x[0, t, char_indices[char]] = 1.\n",
        "\n",
        "    return x\n",
        "\n",
        "prepare_input(\"This is an example of input of our model\".lower())"
      ],
      "metadata": {
        "colab": {
          "base_uri": "https://localhost:8080/"
        },
        "id": "PSA0MXucciUI",
        "outputId": "2cce1bc3-26cb-475a-c68b-0e02093ba207"
      },
      "execution_count": 27,
      "outputs": [
        {
          "output_type": "execute_result",
          "data": {
            "text/plain": [
              "array([[[0., 0., 0., ..., 0., 0., 0.],\n",
              "        [0., 0., 0., ..., 0., 0., 0.],\n",
              "        [0., 0., 0., ..., 0., 0., 0.],\n",
              "        ...,\n",
              "        [0., 0., 0., ..., 0., 0., 0.],\n",
              "        [0., 0., 0., ..., 0., 0., 0.],\n",
              "        [0., 0., 0., ..., 0., 0., 0.]]])"
            ]
          },
          "metadata": {},
          "execution_count": 27
        }
      ]
    },
    {
      "cell_type": "markdown",
      "source": [
        "### Creating Functions for prediction"
      ],
      "metadata": {
        "id": "RFVBYGVOkBaH"
      }
    },
    {
      "cell_type": "code",
      "source": [
        "#function for predicting the next word\n",
        "def predict_completion(text):\n",
        "    original_text = text\n",
        "    generated = text\n",
        "    completion = ''\n",
        "    while True:\n",
        "        x = prepare_input(text)\n",
        "        preds = model.predict(x, verbose=0)[0]\n",
        "        next_index = sample(preds, top_n=1)[0]\n",
        "        next_char = indices_char[next_index]\n",
        "        text = text[1:] + next_char\n",
        "        completion += next_char\n",
        "\n",
        "        if len(original_text + completion) + 2 > len(original_text) and next_char == ' ':\n",
        "            return completion"
      ],
      "metadata": {
        "id": "ZZaCV_1EdYcH"
      },
      "execution_count": 28,
      "outputs": []
    },
    {
      "cell_type": "code",
      "source": [
        "#function to return samples\n",
        "def sample(preds, top_n=3):\n",
        "    preds = np.asarray(preds).astype('float64')\n",
        "    preds = np.log(preds)\n",
        "    exp_preds = np.exp(preds)\n",
        "    preds = exp_preds / np.sum(exp_preds)\n",
        "\n",
        "    return heapq.nlargest(top_n, range(len(preds)), preds.take)"
      ],
      "metadata": {
        "id": "IEJzxDP6fPyY"
      },
      "execution_count": 31,
      "outputs": []
    },
    {
      "cell_type": "code",
      "source": [
        "#Modified above function to predict multiple characters\n",
        "def predict_completions(text, n=3):\n",
        "    x = prepare_input(text)\n",
        "    preds = model.predict(x, verbose=0)[0]\n",
        "    next_indices = sample(preds, n)\n",
        "    return [indices_char[idx] + predict_completion(text[1:] + indices_char[idx]) for idx in next_indices]"
      ],
      "metadata": {
        "id": "tkNvhc7Dfg3Y"
      },
      "execution_count": 32,
      "outputs": []
    },
    {
      "cell_type": "markdown",
      "source": [
        "## Prediction"
      ],
      "metadata": {
        "id": "bm-tyAJ4gD4w"
      }
    },
    {
      "cell_type": "code",
      "source": [
        "quotes = [\"Never say never, because limits, like fears, are often just an illusion.\",\n",
        "          \"Many of life’s failures are people who did not realize how close they were to success when they gave up.\",\n",
        "          \"It is hard enough to remember my opinions, without also remembering my reasons for them!\",\n",
        "          \"Light the candle instead of cursuing darkness.\",\n",
        "          \"You only live once, but if you do it right, once is enough.\"]"
      ],
      "metadata": {
        "id": "WGijv687fjt5"
      },
      "execution_count": 35,
      "outputs": []
    },
    {
      "cell_type": "code",
      "source": [
        "for q in quotes:\n",
        "    seq = q[:40].lower()\n",
        "    print(seq)\n",
        "    print(predict_completions(seq, 5))\n",
        "    print()"
      ],
      "metadata": {
        "colab": {
          "base_uri": "https://localhost:8080/"
        },
        "id": "Z5GTR0GTfz83",
        "outputId": "f468e971-6f37-4b78-9e35-9f029ac23449"
      },
      "execution_count": 36,
      "outputs": [
        {
          "output_type": "stream",
          "name": "stdout",
          "text": [
            "never say never, because limits, like fe\n",
            "['eling ', 'llow ', 'ars, ', 'wselved ', 'rting ']\n",
            "\n",
            "many of life’s failures are people who d\n",
            "['o ', 'id ', 'eeply ', 'ressed. ', 'ay ']\n",
            "\n",
            "it is hard enough to remember my opinion\n",
            "[' and ', ', ', '. ', 'ation ', 's ']\n",
            "\n",
            "light the candle instead of cursuing dar\n",
            "['k ', 'ing ', 'ds ', 'ming ', 'pore ']\n",
            "\n",
            "you only live once, but if you do it rig\n",
            "['ht ', 'ine ', 'er ', 'aned ', 'gred ']\n",
            "\n"
          ]
        }
      ]
    },
    {
      "cell_type": "markdown",
      "source": [
        "### Conclusion: Our Model is working fine with an accuracy of 0.59. We can see that the model can predict the next word from the sentences."
      ],
      "metadata": {
        "id": "Zc7qNIQdha3f"
      }
    },
    {
      "cell_type": "markdown",
      "source": [
        "# **--------------------------------------------Thank You--------------------------------------------**"
      ],
      "metadata": {
        "id": "r_sZTHGSh4_X"
      }
    }
  ]
}